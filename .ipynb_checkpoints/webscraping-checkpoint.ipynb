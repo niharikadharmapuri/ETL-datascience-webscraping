{
 "cells": [
  {
   "cell_type": "code",
   "execution_count": null,
   "metadata": {},
   "outputs": [],
   "source": [
    "import requests\n",
    "page = requests.get(\"http://niharikadharmapuri.com/\")\n",
    "from bs4 import BeautifulSoup\n",
    "soup = BeautifulSoup(page.content, \"lxml\")\n",
    "html_string=soup.prettify()\n",
    "\n",
    "# display HTML string in the juptyer notebook\n",
    "from IPython.core.display import display, HTML\n",
    "display(HTML(html_string))\n",
    "ps = BeautifulSoup(html_string)\n",
    "# use name parameter to select by tag name\n",
    "body = ps.find(name=\"body\")\n",
    "print(body)\n",
    "# use text attribute to get the content of the tag\n",
    "print(body.find(name=\"v-btn\").text)\n",
    "# get first element\n",
    "print(body.find(name=\"p\"))\n",
    "# get all elements\n",
    "print(body.findAll(name=\"p\"))\n"
   ]
  }
 ],
 "metadata": {
  "kernelspec": {
   "display_name": "Python 3",
   "language": "python",
   "name": "python3"
  },
  "language_info": {
   "codemirror_mode": {
    "name": "ipython",
    "version": 3
   },
   "file_extension": ".py",
   "mimetype": "text/x-python",
   "name": "python",
   "nbconvert_exporter": "python",
   "pygments_lexer": "ipython3",
   "version": "3.6.5"
  }
 },
 "nbformat": 4,
 "nbformat_minor": 2
}
